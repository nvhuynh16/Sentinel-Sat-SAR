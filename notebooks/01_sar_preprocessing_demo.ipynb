{
 "cells": [
  {
   "cell_type": "markdown",
   "metadata": {},
   "source": "# Sentinel-1 SAR Preprocessing Demo\n## Hainan Naval Base - August 2025\n\nThis notebook demonstrates:\n1. Loading Sentinel-1 SAR data\n2. Converting to dB scale\n3. Speckle filtering\n4. Contrast enhancement\n5. Visualization techniques"
  },
  {
   "cell_type": "code",
   "execution_count": null,
   "metadata": {},
   "outputs": [],
   "source": [
    "import sys\n",
    "from pathlib import Path\n",
    "import numpy as np\n",
    "import matplotlib.pyplot as plt\n",
    "from matplotlib.colors import Normalize\n",
    "\n",
    "# Add src to path\n",
    "sys.path.insert(0, str(Path.cwd().parent))\n",
    "\n",
    "from src.utils import load_sar_band, get_safe_info\n",
    "from src.preprocessing import (\n",
    "    convert_to_db, apply_speckle_filter, lee_filter,\n",
    "    enhance_contrast, normalize_intensity\n",
    ")\n",
    "\n",
    "# Configure matplotlib\n",
    "plt.rcParams['figure.figsize'] = (15, 10)\n",
    "plt.rcParams['figure.dpi'] = 100\n",
    "\n",
    "print(\"✓ Modules loaded successfully\")"
   ]
  },
  {
   "cell_type": "markdown",
   "metadata": {},
   "source": [
    "## 1. Load SAR Data"
   ]
  },
  {
   "cell_type": "code",
   "execution_count": null,
   "metadata": {},
   "outputs": [],
   "source": [
    "# Path to extracted SAFE directory\n",
    "safe_dir = Path(\"../data/sentinel1/S1A_IW_GRDH_1SDV_20250816T025212_20250816T025237_060555_078800_1619.SAFE\")\n",
    "\n",
    "# Get product information\n",
    "info = get_safe_info(safe_dir)\n",
    "print(\"Product Information:\")\n",
    "print(f\"  Satellite: {info['satellite']}\")\n",
    "print(f\"  Product Type: {info['product_type']}\")\n",
    "print(f\"  Start Time: {info['start_time']}\")\n",
    "print(f\"  Polarizations: {info['polarizations']}\")"
   ]
  },
  {
   "cell_type": "code",
   "execution_count": null,
   "metadata": {},
   "outputs": [],
   "source": [
    "# Load VV polarization (better for ships and metal structures)\n",
    "vv_data, vv_meta = load_sar_band(safe_dir, polarization='VV')\n",
    "\n",
    "print(f\"VV Data Shape: {vv_data.shape}\")\n",
    "print(f\"Data Type: {vv_data.dtype}\")\n",
    "print(f\"Value Range: {vv_data.min()} - {vv_data.max()}\")\n",
    "print(f\"Mean: {vv_data.mean():.2f}\")"
   ]
  },
  {
   "cell_type": "markdown",
   "metadata": {},
   "source": [
    "## 2. Visualize Raw SAR Data"
   ]
  },
  {
   "cell_type": "code",
   "execution_count": null,
   "metadata": {},
   "outputs": [],
   "source": [
    "# Take a subset for faster visualization\n",
    "subset = vv_data[5000:7000, 10000:12000]\n",
    "\n",
    "fig, axes = plt.subplots(1, 2, figsize=(15, 7))\n",
    "\n",
    "# Raw intensity\n",
    "im1 = axes[0].imshow(subset, cmap='gray', vmin=0, vmax=np.percentile(subset, 99))\n",
    "axes[0].set_title('Raw SAR Intensity (Linear Scale)', fontsize=14)\n",
    "axes[0].axis('off')\n",
    "plt.colorbar(im1, ax=axes[0], fraction=0.046, pad=0.04)\n",
    "\n",
    "# Histogram\n",
    "axes[1].hist(subset.flatten(), bins=100, color='steelblue', alpha=0.7)\n",
    "axes[1].set_xlabel('Intensity Value', fontsize=12)\n",
    "axes[1].set_ylabel('Frequency', fontsize=12)\n",
    "axes[1].set_title('Intensity Histogram', fontsize=14)\n",
    "axes[1].grid(alpha=0.3)\n",
    "\n",
    "plt.tight_layout()\n",
    "plt.show()\n",
    "\n",
    "print(\"Note: Raw SAR data shows high dynamic range and speckle noise\")"
   ]
  },
  {
   "cell_type": "markdown",
   "metadata": {},
   "source": [
    "## 3. Convert to dB Scale"
   ]
  },
  {
   "cell_type": "code",
   "execution_count": null,
   "metadata": {},
   "outputs": [],
   "source": [
    "# Convert subset to dB\n",
    "subset_db = convert_to_db(subset)\n",
    "\n",
    "print(f\"dB Range: {subset_db.min():.2f} to {subset_db.max():.2f} dB\")\n",
    "\n",
    "fig, axes = plt.subplots(1, 2, figsize=(15, 7))\n",
    "\n",
    "# dB scale image\n",
    "im1 = axes[0].imshow(subset_db, cmap='gray', vmin=-25, vmax=5)\n",
    "axes[0].set_title('SAR Data in dB Scale', fontsize=14)\n",
    "axes[0].axis('off')\n",
    "plt.colorbar(im1, ax=axes[0], fraction=0.046, pad=0.04, label='dB')\n",
    "\n",
    "# dB histogram\n",
    "axes[1].hist(subset_db.flatten(), bins=100, color='orange', alpha=0.7)\n",
    "axes[1].set_xlabel('dB Value', fontsize=12)\n",
    "axes[1].set_ylabel('Frequency', fontsize=12)\n",
    "axes[1].set_title('dB Histogram', fontsize=14)\n",
    "axes[1].grid(alpha=0.3)\n",
    "\n",
    "plt.tight_layout()\n",
    "plt.show()\n",
    "\n",
    "print(\"✓ dB scale provides better visualization and more normal distribution\")"
   ]
  },
  {
   "cell_type": "markdown",
   "metadata": {},
   "source": [
    "## 4. Speckle Filtering Comparison"
   ]
  },
  {
   "cell_type": "code",
   "execution_count": null,
   "metadata": {},
   "outputs": [],
   "source": [
    "# Apply different filters\n",
    "median_filtered = apply_speckle_filter(subset_db, method='median', size=5)\n",
    "mean_filtered = apply_speckle_filter(subset_db, method='mean', size=5)\n",
    "lee_filtered = lee_filter(subset, window_size=5)\n",
    "lee_filtered_db = convert_to_db(lee_filtered)\n",
    "\n",
    "fig, axes = plt.subplots(2, 2, figsize=(15, 15))\n",
    "\n",
    "# Original\n",
    "axes[0, 0].imshow(subset_db, cmap='gray', vmin=-25, vmax=5)\n",
    "axes[0, 0].set_title('Original (dB)', fontsize=12)\n",
    "axes[0, 0].axis('off')\n",
    "\n",
    "# Median filter\n",
    "axes[0, 1].imshow(median_filtered, cmap='gray', vmin=-25, vmax=5)\n",
    "axes[0, 1].set_title('Median Filter (5x5)', fontsize=12)\n",
    "axes[0, 1].axis('off')\n",
    "\n",
    "# Mean filter\n",
    "axes[1, 0].imshow(mean_filtered, cmap='gray', vmin=-25, vmax=5)\n",
    "axes[1, 0].set_title('Mean Filter (5x5)', fontsize=12)\n",
    "axes[1, 0].axis('off')\n",
    "\n",
    "# Lee filter\n",
    "axes[1, 1].imshow(lee_filtered_db, cmap='gray', vmin=-25, vmax=5)\n",
    "axes[1, 1].set_title('Lee Filter (5x5)', fontsize=12)\n",
    "axes[1, 1].axis('off')\n",
    "\n",
    "plt.tight_layout()\n",
    "plt.show()\n",
    "\n",
    "print(\"Filter Performance:\")\n",
    "print(f\"  Original variance: {np.var(subset_db):.2f}\")\n",
    "print(f\"  Median filtered variance: {np.var(median_filtered):.2f}\")\n",
    "print(f\"  Mean filtered variance: {np.var(mean_filtered):.2f}\")\n",
    "print(f\"  Lee filtered variance: {np.var(lee_filtered_db):.2f}\")"
   ]
  },
  {
   "cell_type": "markdown",
   "metadata": {},
   "source": [
    "## 5. Contrast Enhancement"
   ]
  },
  {
   "cell_type": "code",
   "execution_count": null,
   "metadata": {},
   "outputs": [],
   "source": [
    "# Apply different enhancement methods\n",
    "eq_enhanced = enhance_contrast(median_filtered, method='equalize')\n",
    "stretch_enhanced = enhance_contrast(median_filtered, method='stretch')\n",
    "\n",
    "fig, axes = plt.subplots(1, 3, figsize=(20, 7))\n",
    "\n",
    "# Original (filtered)\n",
    "axes[0].imshow(median_filtered, cmap='gray', vmin=-25, vmax=5)\n",
    "axes[0].set_title('Filtered (No Enhancement)', fontsize=14)\n",
    "axes[0].axis('off')\n",
    "\n",
    "# Histogram equalization\n",
    "axes[1].imshow(eq_enhanced, cmap='gray')\n",
    "axes[1].set_title('Histogram Equalization', fontsize=14)\n",
    "axes[1].axis('off')\n",
    "\n",
    "# Contrast stretch\n",
    "axes[2].imshow(stretch_enhanced, cmap='gray')\n",
    "axes[2].set_title('Contrast Stretch (2-98%)', fontsize=14)\n",
    "axes[2].axis('off')\n",
    "\n",
    "plt.tight_layout()\n",
    "plt.show()\n",
    "\n",
    "print(\"✓ Enhancement improves visual interpretation\")"
   ]
  },
  {
   "cell_type": "markdown",
   "metadata": {},
   "source": [
    "## 6. Full Processing Pipeline"
   ]
  },
  {
   "cell_type": "code",
   "execution_count": null,
   "metadata": {},
   "outputs": [],
   "source": [
    "def process_sar_image(intensity_data, filter_size=5):\n",
    "    \"\"\"\n",
    "    Complete SAR preprocessing pipeline.\n",
    "    \n",
    "    Steps:\n",
    "    1. Convert to dB\n",
    "    2. Apply median filter\n",
    "    3. Enhance contrast\n",
    "    4. Normalize to 0-1\n",
    "    \"\"\"\n",
    "    # Convert to dB\n",
    "    db_image = convert_to_db(intensity_data)\n",
    "    \n",
    "    # Speckle filtering\n",
    "    filtered = apply_speckle_filter(db_image, method='median', size=filter_size)\n",
    "    \n",
    "    # Contrast enhancement\n",
    "    enhanced = enhance_contrast(filtered, method='stretch')\n",
    "    \n",
    "    # Normalize\n",
    "    normalized = normalize_intensity(enhanced)\n",
    "    \n",
    "    return normalized\n",
    "\n",
    "# Process the subset\n",
    "processed = process_sar_image(subset, filter_size=5)\n",
    "\n",
    "# Visualize before and after\n",
    "fig, axes = plt.subplots(1, 2, figsize=(16, 8))\n",
    "\n",
    "axes[0].imshow(subset, cmap='gray', vmin=0, vmax=np.percentile(subset, 99))\n",
    "axes[0].set_title('Raw SAR Data', fontsize=16, fontweight='bold')\n",
    "axes[0].axis('off')\n",
    "\n",
    "axes[1].imshow(processed, cmap='gray')\n",
    "axes[1].set_title('Processed SAR Data', fontsize=16, fontweight='bold')\n",
    "axes[1].axis('off')\n",
    "\n",
    "plt.suptitle('Sentinel-1 SAR Processing Pipeline', fontsize=18, fontweight='bold', y=0.98)\n",
    "plt.tight_layout()\n",
    "plt.show()\n",
    "\n",
    "print(\"✓ Processing pipeline complete\")\n",
    "print(f\"  Output range: {processed.min():.3f} to {processed.max():.3f}\")"
   ]
  },
  {
   "cell_type": "markdown",
   "metadata": {},
   "source": [
    "## 7. Identify Features of Interest\n",
    "\n",
    "In SAR imagery:\n",
    "- **Bright pixels** = Strong backscatter (metal, buildings, ships)\n",
    "- **Dark pixels** = Low backscatter (water, smooth surfaces)\n",
    "- **Medium gray** = Moderate backscatter (concrete, soil)"
   ]
  },
  {
   "cell_type": "code",
   "execution_count": null,
   "metadata": {},
   "outputs": [],
   "source": [
    "# Threshold to identify bright targets (ships, planes, buildings)\n",
    "threshold = np.percentile(processed, 95)  # Top 5% brightest pixels\n",
    "\n",
    "bright_targets = processed > threshold\n",
    "\n",
    "fig, axes = plt.subplots(1, 2, figsize=(16, 8))\n",
    "\n",
    "axes[0].imshow(processed, cmap='gray')\n",
    "axes[0].set_title('Processed SAR Image', fontsize=14)\n",
    "axes[0].axis('off')\n",
    "\n",
    "axes[1].imshow(bright_targets, cmap='hot')\n",
    "axes[1].set_title('Bright Targets (Potential Ships/Buildings)', fontsize=14)\n",
    "axes[1].axis('off')\n",
    "\n",
    "plt.tight_layout()\n",
    "plt.show()\n",
    "\n",
    "print(f\"Detected {bright_targets.sum()} bright pixels (top 5%)\")\n",
    "print(f\"This represents {100*bright_targets.sum()/bright_targets.size:.2f}% of the image\")"
   ]
  },
  {
   "cell_type": "markdown",
   "metadata": {},
   "source": [
    "## Summary\n",
    "\n",
    "This notebook demonstrated:\n",
    "\n",
    "✅ **Loading Sentinel-1 SAR data** from .SAFE archives  \n",
    "✅ **Converting to dB scale** for better visualization  \n",
    "✅ **Speckle filtering** using median, mean, and Lee filters  \n",
    "✅ **Contrast enhancement** for improved interpretation  \n",
    "✅ **Complete preprocessing pipeline** ready for analysis  \n",
    "\n",
    "**Next Steps:**\n",
    "- Multi-temporal change detection\n",
    "- Object detection (ships, planes)\n",
    "- Infrastructure analysis"
   ]
  },
  {
   "cell_type": "code",
   "execution_count": null,
   "metadata": {},
   "outputs": [],
   "source": []
  }
 ],
 "metadata": {
  "kernelspec": {
   "display_name": "Python 3",
   "language": "python",
   "name": "python3"
  },
  "language_info": {
   "codemirror_mode": {
    "name": "ipython",
    "version": 3
   },
   "file_extension": ".py",
   "mimetype": "text/x-python",
   "name": "python",
   "nbconvert_exporter": "python",
   "pygments_lexer": "ipython3",
   "version": "3.12.7"
  }
 },
 "nbformat": 4,
 "nbformat_minor": 4
}