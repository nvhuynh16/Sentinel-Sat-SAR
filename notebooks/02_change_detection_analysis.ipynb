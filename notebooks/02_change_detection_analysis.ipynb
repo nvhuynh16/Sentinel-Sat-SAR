{
 "cells": [
  {
   "cell_type": "markdown",
   "metadata": {},
   "source": "# Sentinel-1 SAR Change Detection Analysis\n## Hainan Naval Base (Yulin) - August 2025\n\n**Objective**: Detect and analyze changes in infrastructure, ships, and aircraft between August 15 and August 16, 2025.\n\n**Techniques Demonstrated**:\n- Multi-temporal SAR image processing\n- Change detection (difference and log-ratio methods)\n- Object detection (bright spots for ships/planes)\n- Professional visualization\n\n---"
  },
  {
   "cell_type": "markdown",
   "metadata": {},
   "source": [
    "## 1. Setup and Imports"
   ]
  },
  {
   "cell_type": "code",
   "execution_count": null,
   "metadata": {},
   "outputs": [],
   "source": [
    "import sys\n",
    "from pathlib import Path\n",
    "import numpy as np\n",
    "import matplotlib.pyplot as plt\n",
    "from datetime import datetime\n",
    "\n",
    "# Add src to path\n",
    "sys.path.insert(0, str(Path.cwd().parent))\n",
    "\n",
    "# Import our modules\n",
    "from src.utils import load_sar_band, get_safe_info\n",
    "from src.preprocessing import (\n",
    "    convert_to_db, apply_speckle_filter, enhance_contrast, normalize_intensity\n",
    ")\n",
    "from src.change_detection import (\n",
    "    compute_difference, detect_changes, compute_change_magnitude,\n",
    "    detect_bright_spots, filter_detections_by_size, refine_change_map\n",
    ")\n",
    "from src.visualization import (\n",
    "    plot_sar_image, plot_before_after, plot_change_heatmap,\n",
    "    plot_detections, plot_change_rgb\n",
    ")\n",
    "\n",
    "# Configure matplotlib\n",
    "plt.rcParams['figure.figsize'] = (16, 10)\n",
    "plt.rcParams['figure.dpi'] = 100\n",
    "plt.style.use('seaborn-v0_8-darkgrid')\n",
    "\n",
    "print(\"✓ All modules loaded successfully\")\n",
    "print(f\"Analysis Date: {datetime.now().strftime('%Y-%m-%d %H:%M')}\")"
   ]
  },
  {
   "cell_type": "markdown",
   "metadata": {},
   "source": [
    "## 2. Load Multi-Temporal SAR Data\n",
    "\n",
    "We'll analyze two Sentinel-1 images:\n",
    "- **Before**: August 15, 2025 (Sentinel-1C)\n",
    "- **After**: August 16, 2025 (Sentinel-1A)"
   ]
  },
  {
   "cell_type": "code",
   "execution_count": null,
   "metadata": {},
   "outputs": [],
   "source": [
    "# Define paths to .SAFE directories\n",
    "safe_before = Path(\"../data/sentinel1/S1C_IW_GRDH_1SDV_20250815T025924_20250815T025949_003677_0075A2_3106.SAFE\")\n",
    "safe_after = Path(\"../data/sentinel1/S1A_IW_GRDH_1SDV_20250816T025212_20250816T025237_060555_078800_1619.SAFE\")\n",
    "\n",
    "# Get product information\n",
    "info_before = get_safe_info(safe_before)\n",
    "info_after = get_safe_info(safe_after)\n",
    "\n",
    "print(\"=\" * 60)\n",
    "print(\"BEFORE Image (August 15, 2025)\")\n",
    "print(\"=\" * 60)\n",
    "print(f\"Satellite: {info_before['satellite']}\")\n",
    "print(f\"Product Type: {info_before['product_type']}\")\n",
    "print(f\"Polarizations: {info_before['polarizations']}\")\n",
    "print(f\"Start Time: {info_before['start_time']}\")\n",
    "\n",
    "print(\"\\n\" + \"=\" * 60)\n",
    "print(\"AFTER Image (August 16, 2025)\")\n",
    "print(\"=\" * 60)\n",
    "print(f\"Satellite: {info_after['satellite']}\")\n",
    "print(f\"Product Type: {info_after['product_type']}\")\n",
    "print(f\"Polarizations: {info_after['polarizations']}\")\n",
    "print(f\"Start Time: {info_after['start_time']}\")\n",
    "\n",
    "print(\"\\n⏱ Time Difference: ~1 day\")"
   ]
  },
  {
   "cell_type": "code",
   "execution_count": null,
   "metadata": {},
   "outputs": [],
   "source": [
    "# Load VV polarization (better for metal targets like ships and planes)\n",
    "print(\"Loading SAR data (VV polarization)...\")\n",
    "\n",
    "vv_before, meta_before = load_sar_band(safe_before, polarization='VV')\n",
    "vv_after, meta_after = load_sar_band(safe_after, polarization='VV')\n",
    "\n",
    "print(f\"\\n✓ Before Image: {vv_before.shape} | dtype: {vv_before.dtype}\")\n",
    "print(f\"  Range: {vv_before.min()} - {vv_before.max()} | Mean: {vv_before.mean():.2f}\")\n",
    "\n",
    "print(f\"\\n✓ After Image: {vv_after.shape} | dtype: {vv_after.dtype}\")\n",
    "print(f\"  Range: {vv_after.min()} - {vv_after.max()} | Mean: {vv_after.mean():.2f}\")\n",
    "\n",
    "print(f\"\\n📊 Total pixels per image: {vv_before.size:,}\")\n",
    "print(f\"💾 Memory per image: {vv_before.nbytes / 1024**2:.1f} MB\")"
   ]
  },
  {
   "cell_type": "markdown",
   "metadata": {},
   "source": [
    "## 3. Extract Region of Interest (ROI)\n",
    "\n",
    "For this analysis, we'll focus on a manageable subset containing the base facilities, runway, and port area."
   ]
  },
  {
   "cell_type": "code",
   "execution_count": null,
   "metadata": {},
   "outputs": [],
   "source": [
    "# Define ROI (adjust these coordinates to focus on specific areas)\n",
    "# Full image is 16795 × 25273 pixels\n",
    "# Let's take a 2000x2000 pixel subset for demonstration\n",
    "\n",
    "y_start, y_end = 5000, 7000\n",
    "x_start, x_end = 10000, 12000\n",
    "\n",
    "roi_before = vv_before[y_start:y_end, x_start:x_end]\n",
    "roi_after = vv_after[y_start:y_end, x_start:x_end]\n",
    "\n",
    "print(f\"ROI Shape: {roi_before.shape}\")\n",
    "print(f\"ROI Coverage: {roi_before.shape[0]} × {roi_before.shape[1]} pixels\")\n",
    "print(f\"Approximate Ground Coverage: ~{roi_before.shape[0]*10/1000:.1f}km × {roi_before.shape[1]*10/1000:.1f}km\")\n",
    "print(\"\\n(Sentinel-1 GRD: ~10m spatial resolution)\")"
   ]
  },
  {
   "cell_type": "markdown",
   "metadata": {},
   "source": [
    "## 4. Preprocessing Pipeline\n",
    "\n",
    "Apply the complete SAR preprocessing chain:\n",
    "1. Convert to dB scale\n",
    "2. Apply speckle filter\n",
    "3. Enhance contrast"
   ]
  },
  {
   "cell_type": "code",
   "execution_count": null,
   "metadata": {},
   "outputs": [],
   "source": [
    "# Convert to dB scale\n",
    "print(\"Step 1: Converting to dB scale...\")\n",
    "db_before = convert_to_db(roi_before)\n",
    "db_after = convert_to_db(roi_after)\n",
    "\n",
    "print(f\"  Before dB range: {db_before.min():.2f} to {db_before.max():.2f} dB\")\n",
    "print(f\"  After dB range: {db_after.min():.2f} to {db_after.max():.2f} dB\")\n",
    "\n",
    "# Apply median speckle filter\n",
    "print(\"\\nStep 2: Applying speckle filter (median, 5×5)...\")\n",
    "filtered_before = apply_speckle_filter(db_before, method='median', size=5)\n",
    "filtered_after = apply_speckle_filter(db_after, method='median', size=5)\n",
    "\n",
    "variance_reduction_before = (1 - np.var(filtered_before) / np.var(db_before)) * 100\n",
    "variance_reduction_after = (1 - np.var(filtered_after) / np.var(db_after)) * 100\n",
    "\n",
    "print(f\"  Variance reduction (before): {variance_reduction_before:.1f}%\")\n",
    "print(f\"  Variance reduction (after): {variance_reduction_after:.1f}%\")\n",
    "\n",
    "# Enhance contrast\n",
    "print(\"\\nStep 3: Enhancing contrast (2-98% stretch)...\")\n",
    "enhanced_before = enhance_contrast(filtered_before, method='stretch')\n",
    "enhanced_after = enhance_contrast(filtered_after, method='stretch')\n",
    "\n",
    "print(\"\\n✓ Preprocessing complete!\")"
   ]
  },
  {
   "cell_type": "markdown",
   "metadata": {},
   "source": [
    "## 5. Visualize Preprocessed Images"
   ]
  },
  {
   "cell_type": "code",
   "execution_count": null,
   "metadata": {},
   "outputs": [],
   "source": "# Create before/after comparison\nfig, axes = plot_before_after(\n    enhanced_before,\n    enhanced_after,\n    titles=(\n        \"Before: August 15, 2025 (S1C)\",\n        \"After: August 16, 2025 (S1A)\",\n        \"Changes\"\n    ),\n    figsize=(18, 6)\n)\n\nplt.suptitle('Sentinel-1 SAR - Hainan Naval Base', fontsize=16, fontweight='bold', y=1.02)\nplt.show()\n\nprint(\"\\n💡 SAR Interpretation Tips:\")\nprint(\"  • Bright pixels = Strong radar return (metal, buildings, ships)\")\nprint(\"  • Dark pixels = Weak return (water, smooth surfaces)\")\nprint(\"  • Medium gray = Moderate return (concrete, soil, vegetation)\")"
  },
  {
   "cell_type": "markdown",
   "metadata": {},
   "source": [
    "## 6. Change Detection Analysis\n",
    "\n",
    "We'll use the **difference method** to detect changes between the two dates."
   ]
  },
  {
   "cell_type": "code",
   "execution_count": null,
   "metadata": {},
   "outputs": [],
   "source": [
    "# Compute change difference\n",
    "print(\"Computing change difference...\")\n",
    "change_diff = compute_difference(enhanced_before, enhanced_after)\n",
    "\n",
    "print(f\"Change range: {change_diff.min():.2f} to {change_diff.max():.2f} dB\")\n",
    "print(f\"Mean change: {change_diff.mean():.4f} dB\")\n",
    "print(f\"Std change: {change_diff.std():.4f} dB\")\n",
    "\n",
    "# Detect significant changes (threshold = 3 dB)\n",
    "print(\"\\nDetecting significant changes (threshold = 3 dB)...\")\n",
    "change_map = detect_changes(enhanced_before, enhanced_after, threshold=3.0, method='difference')\n",
    "\n",
    "# Refine change map (remove small regions)\n",
    "refined_change_map = refine_change_map(change_map, min_size=20)\n",
    "\n",
    "total_changed = np.sum(refined_change_map)\n",
    "percent_changed = 100 * total_changed / refined_change_map.size\n",
    "\n",
    "print(f\"\\n📊 Change Statistics:\")\n",
    "print(f\"  Total changed pixels: {total_changed:,}\")\n",
    "print(f\"  Percentage of area changed: {percent_changed:.2f}%\")\n",
    "print(f\"  Approximate changed area: ~{total_changed * 100 / 10000:.2f} hectares\")"
   ]
  },
  {
   "cell_type": "code",
   "execution_count": null,
   "metadata": {},
   "outputs": [],
   "source": [
    "# Visualize change detection results\n",
    "fig, axes = plot_before_after(\n",
    "    enhanced_before,\n",
    "    enhanced_after,\n",
    "    change_map=refined_change_map,\n",
    "    titles=(\n",
    "        \"Before (Aug 15)\",\n",
    "        \"After (Aug 16)\",\n",
    "        \"Detected Changes\"\n",
    "    ),\n",
    "    figsize=(20, 6)\n",
    ")\n",
    "\n",
    "plt.suptitle('Change Detection Results', fontsize=16, fontweight='bold', y=1.02)\n",
    "plt.show()"
   ]
  },
  {
   "cell_type": "markdown",
   "metadata": {},
   "source": [
    "## 7. Change Magnitude Heatmap"
   ]
  },
  {
   "cell_type": "code",
   "execution_count": null,
   "metadata": {},
   "outputs": [],
   "source": [
    "# Compute change magnitude\n",
    "change_magnitude = compute_change_magnitude(enhanced_before, enhanced_after)\n",
    "\n",
    "# Plot heatmap\n",
    "fig, ax = plot_change_heatmap(\n",
    "    change_magnitude,\n",
    "    title=\"Change Magnitude Heatmap (Absolute Difference in dB)\",\n",
    "    cmap='RdYlGn_r',\n",
    "    figsize=(14, 10)\n",
    ")\n",
    "\n",
    "plt.show()\n",
    "\n",
    "print(\"\\n🔥 Hottest Change Areas:\")\n",
    "top_changes = np.argsort(change_magnitude.flatten())[-10:][::-1]\n",
    "for i, idx in enumerate(top_changes[:5], 1):\n",
    "    y, x = np.unravel_index(idx, change_magnitude.shape)\n",
    "    print(f\"  {i}. Position ({y}, {x}): {change_magnitude[y, x]:.2f} dB\")"
   ]
  },
  {
   "cell_type": "markdown",
   "metadata": {},
   "source": [
    "## 8. Multi-Temporal RGB Composite\n",
    "\n",
    "Create a false-color composite where:\n",
    "- **Red** = After image (new bright targets)\n",
    "- **Green/Blue** = Before image\n",
    "- **Red areas** = Increases (new objects/activity)\n",
    "- **Cyan areas** = Decreases (removed objects)"
   ]
  },
  {
   "cell_type": "code",
   "execution_count": null,
   "metadata": {},
   "outputs": [],
   "source": [
    "fig, ax = plot_change_rgb(\n",
    "    enhanced_before,\n",
    "    enhanced_after,\n",
    "    title=\"Multi-Temporal RGB Composite (Change Visualization)\",\n",
    "    figsize=(14, 12)\n",
    ")\n",
    "\n",
    "plt.show()\n",
    "\n",
    "print(\"\\n🎨 Color Interpretation:\")\n",
    "print(\"  • RED areas = Increased backscatter (new bright targets)\")\n",
    "print(\"  • CYAN areas = Decreased backscatter (removed targets)\")\n",
    "print(\"  • GRAY areas = No significant change\")"
   ]
  },
  {
   "cell_type": "markdown",
   "metadata": {},
   "source": [
    "## 9. Object Detection - Ships and Planes\n",
    "\n",
    "Detect bright targets that could be ships (in port areas) or aircraft (on runway)."
   ]
  },
  {
   "cell_type": "code",
   "execution_count": null,
   "metadata": {},
   "outputs": [],
   "source": [
    "# Detect bright spots in both images\n",
    "print(\"Detecting bright targets (ships, planes, buildings)...\\n\")\n",
    "\n",
    "# Before image\n",
    "detections_before = detect_bright_spots(\n",
    "    enhanced_before,\n",
    "    percentile=99.5  # Top 0.5% brightest pixels\n",
    ")\n",
    "\n",
    "# Filter by size (remove noise, keep objects 5-500 pixels)\n",
    "detections_before = filter_detections_by_size(detections_before, min_area=5, max_area=500)\n",
    "\n",
    "print(f\"Before (Aug 15): {len(detections_before)} objects detected\")\n",
    "\n",
    "# After image\n",
    "detections_after = detect_bright_spots(\n",
    "    enhanced_after,\n",
    "    percentile=99.5\n",
    ")\n",
    "\n",
    "detections_after = filter_detections_by_size(detections_after, min_area=5, max_area=500)\n",
    "\n",
    "print(f\"After (Aug 16): {len(detections_after)} objects detected\")\n",
    "print(f\"\\nNet change: {len(detections_after) - len(detections_before):+d} objects\")"
   ]
  },
  {
   "cell_type": "code",
   "execution_count": null,
   "metadata": {},
   "outputs": [],
   "source": [
    "# Visualize detections - Before\n",
    "fig, ax = plot_detections(\n",
    "    enhanced_before,\n",
    "    detections_before,\n",
    "    title=\"Detected Objects - August 15, 2025\",\n",
    "    max_detections=30,\n",
    "    figsize=(14, 12)\n",
    ")\n",
    "\n",
    "plt.show()\n",
    "\n",
    "print(\"\\nTop 10 Brightest Targets (Before):\")\n",
    "for i, det in enumerate(detections_before[:10], 1):\n",
    "    print(f\"  {i}. Area: {det['area']} px | Intensity: {det['intensity_max']:.2f} | \"\n",
    "          f\"Location: ({det['centroid'][0]:.0f}, {det['centroid'][1]:.0f})\")"
   ]
  },
  {
   "cell_type": "code",
   "execution_count": null,
   "metadata": {},
   "outputs": [],
   "source": [
    "# Visualize detections - After\n",
    "fig, ax = plot_detections(\n",
    "    enhanced_after,\n",
    "    detections_after,\n",
    "    title=\"Detected Objects - August 16, 2025\",\n",
    "    max_detections=30,\n",
    "    figsize=(14, 12)\n",
    ")\n",
    "\n",
    "plt.show()\n",
    "\n",
    "print(\"\\nTop 10 Brightest Targets (After):\")\n",
    "for i, det in enumerate(detections_after[:10], 1):\n",
    "    print(f\"  {i}. Area: {det['area']} px | Intensity: {det['intensity_max']:.2f} | \"\n",
    "          f\"Location: ({det['centroid'][0]:.0f}, {det['centroid'][1]:.0f})\")"
   ]
  },
  {
   "cell_type": "markdown",
   "metadata": {},
   "source": [
    "## 10. Statistical Analysis"
   ]
  },
  {
   "cell_type": "code",
   "execution_count": null,
   "metadata": {},
   "outputs": [],
   "source": [
    "# Compare detection statistics\n",
    "fig, axes = plt.subplots(2, 2, figsize=(16, 12))\n",
    "\n",
    "# Detection count comparison\n",
    "axes[0, 0].bar(['Before\\n(Aug 15)', 'After\\n(Aug 16)'], \n",
    "               [len(detections_before), len(detections_after)],\n",
    "               color=['steelblue', 'coral'])\n",
    "axes[0, 0].set_ylabel('Number of Objects', fontsize=12)\n",
    "axes[0, 0].set_title('Detected Object Count', fontsize=14, fontweight='bold')\n",
    "axes[0, 0].grid(axis='y', alpha=0.3)\n",
    "\n",
    "# Area distribution\n",
    "areas_before = [d['area'] for d in detections_before]\n",
    "areas_after = [d['area'] for d in detections_after]\n",
    "\n",
    "axes[0, 1].hist([areas_before, areas_after], bins=20, label=['Before', 'After'], \n",
    "                color=['steelblue', 'coral'], alpha=0.7)\n",
    "axes[0, 1].set_xlabel('Object Area (pixels)', fontsize=12)\n",
    "axes[0, 1].set_ylabel('Frequency', fontsize=12)\n",
    "axes[0, 1].set_title('Object Size Distribution', fontsize=14, fontweight='bold')\n",
    "axes[0, 1].legend()\n",
    "axes[0, 1].grid(alpha=0.3)\n",
    "\n",
    "# Intensity distribution\n",
    "intensity_before = [d['intensity_max'] for d in detections_before]\n",
    "intensity_after = [d['intensity_max'] for d in detections_after]\n",
    "\n",
    "axes[1, 0].hist([intensity_before, intensity_after], bins=20, \n",
    "                label=['Before', 'After'], color=['steelblue', 'coral'], alpha=0.7)\n",
    "axes[1, 0].set_xlabel('Maximum Intensity', fontsize=12)\n",
    "axes[1, 0].set_ylabel('Frequency', fontsize=12)\n",
    "axes[1, 0].set_title('Object Intensity Distribution', fontsize=14, fontweight='bold')\n",
    "axes[1, 0].legend()\n",
    "axes[1, 0].grid(alpha=0.3)\n",
    "\n",
    "# Change magnitude histogram\n",
    "axes[1, 1].hist(change_magnitude.flatten(), bins=50, color='green', alpha=0.7)\n",
    "axes[1, 1].axvline(3.0, color='red', linestyle='--', linewidth=2, label='Detection Threshold')\n",
    "axes[1, 1].set_xlabel('Change Magnitude (dB)', fontsize=12)\n",
    "axes[1, 1].set_ylabel('Frequency', fontsize=12)\n",
    "axes[1, 1].set_title('Change Magnitude Distribution', fontsize=14, fontweight='bold')\n",
    "axes[1, 1].legend()\n",
    "axes[1, 1].grid(alpha=0.3)\n",
    "\n",
    "plt.tight_layout()\n",
    "plt.suptitle('Statistical Analysis Summary', fontsize=16, fontweight='bold', y=1.01)\n",
    "plt.show()\n",
    "\n",
    "# Print summary statistics\n",
    "print(\"\\n\" + \"=\"*60)\n",
    "print(\"SUMMARY STATISTICS\")\n",
    "print(\"=\"*60)\n",
    "print(f\"\\nDetected Objects:\")\n",
    "print(f\"  Before: {len(detections_before)} objects\")\n",
    "print(f\"  After: {len(detections_after)} objects\")\n",
    "print(f\"  Change: {len(detections_after) - len(detections_before):+d} objects\")\n",
    "\n",
    "if areas_before:\n",
    "    print(f\"\\nObject Sizes (Before):\")\n",
    "    print(f\"  Mean: {np.mean(areas_before):.1f} px\")\n",
    "    print(f\"  Median: {np.median(areas_before):.1f} px\")\n",
    "    print(f\"  Range: {np.min(areas_before)}-{np.max(areas_before)} px\")\n",
    "\n",
    "if areas_after:\n",
    "    print(f\"\\nObject Sizes (After):\")\n",
    "    print(f\"  Mean: {np.mean(areas_after):.1f} px\")\n",
    "    print(f\"  Median: {np.median(areas_after):.1f} px\")\n",
    "    print(f\"  Range: {np.min(areas_after)}-{np.max(areas_after)} px\")\n",
    "\n",
    "print(f\"\\nChange Detection:\")\n",
    "print(f\"  Total changed pixels: {np.sum(refined_change_map):,}\")\n",
    "print(f\"  Percentage changed: {percent_changed:.2f}%\")\n",
    "print(f\"  Mean change magnitude: {np.mean(change_magnitude):.4f} dB\")\n",
    "print(f\"  Max change magnitude: {np.max(change_magnitude):.2f} dB\")"
   ]
  },
  {
   "cell_type": "markdown",
   "metadata": {},
   "source": [
    "## 11. Key Findings & Conclusions"
   ]
  },
  {
   "cell_type": "code",
   "execution_count": null,
   "metadata": {},
   "outputs": [],
   "source": "print(\"=\"*70)\nprint(\"KEY FINDINGS - HAINAN NAVAL BASE CHANGE ANALYSIS\")\nprint(\"=\"*70)\n\nprint(\"\\n📅 ANALYSIS PERIOD\")\nprint(f\"  • Before: August 15, 2025 (Sentinel-1C)\")\nprint(f\"  • After: August 16, 2025 (Sentinel-1A)\")\nprint(f\"  • Time difference: ~1 day\")\n\nprint(\"\\n📊 DATA CHARACTERISTICS\")\nprint(f\"  • Analyzed region: {roi_before.shape[0]} × {roi_before.shape[1]} pixels\")\nprint(f\"  • Ground coverage: ~{roi_before.shape[0]*10/1000:.1f} × {roi_before.shape[1]*10/1000:.1f} km²\")\nprint(f\"  • Spatial resolution: ~10m (Sentinel-1 GRD)\")\nprint(f\"  • Polarization: VV (vertical transmit/receive)\")\n\nprint(\"\\n🔍 CHANGE DETECTION RESULTS\")\nprint(f\"  • Changed pixels: {np.sum(refined_change_map):,} ({percent_changed:.2f}%)\")\nprint(f\"  • Detection threshold: 3.0 dB\")\nprint(f\"  • Method: Image differencing with morphological refinement\")\n\nprint(\"\\n🎯 OBJECT DETECTION RESULTS\")\nprint(f\"  • Objects before: {len(detections_before)}\")\nprint(f\"  • Objects after: {len(detections_after)}\")\nprint(f\"  • Net change: {len(detections_after) - len(detections_before):+d} objects\")\nprint(f\"  • Detection method: Bright spot analysis (top 0.5%)\")\n\nprint(\"\\n💡 INTERPRETATION\")\nprint(\"  The 1-day time difference shows:\")\nif len(detections_after) > len(detections_before):\n    print(f\"    ✓ Increased activity: +{len(detections_after) - len(detections_before)} new bright targets\")\n    print(\"      (Possible ships, aircraft, or mobile equipment)\")\nelif len(detections_after) < len(detections_before):\n    print(f\"    ✓ Decreased activity: {len(detections_after) - len(detections_before)} fewer bright targets\")\n    print(\"      (Departure of ships, aircraft, or equipment movement)\")\nelse:\n    print(\"    ✓ Stable activity: Similar number of targets detected\")\n\nprint(f\"\\n    • Overall change magnitude: {np.mean(change_magnitude):.4f} dB (mean)\")\nprint(f\"    • Changed area covers {percent_changed:.2f}% of analyzed region\")\n\nprint(\"\\n🔬 TECHNIQUES DEMONSTRATED\")\nprint(\"  ✓ SAR image preprocessing (dB conversion, speckle filtering)\")\nprint(\"  ✓ Change detection (difference method with thresholding)\")\nprint(\"  ✓ Object detection (connected component analysis)\")\nprint(\"  ✓ Multi-temporal visualization (RGB composite)\")\nprint(\"  ✓ Statistical analysis and reporting\")\n\nprint(\"\\n\" + \"=\"*70)\nprint(\"Analysis complete! 🎉\")\nprint(\"=\"*70)"
  },
  {
   "cell_type": "markdown",
   "metadata": {},
   "source": [
    "## 12. Export Results (Optional)\n",
    "\n",
    "Save high-resolution figures for reports and presentations."
   ]
  },
  {
   "cell_type": "code",
   "execution_count": null,
   "metadata": {},
   "outputs": [],
   "source": [
    "# Create output directory\n",
    "output_dir = Path(\"../outputs/change_maps\")\n",
    "output_dir.mkdir(parents=True, exist_ok=True)\n",
    "\n",
    "print(f\"Exporting results to: {output_dir}\\n\")\n",
    "\n",
    "# Export before/after comparison\n",
    "fig, axes = plot_before_after(\n",
    "    enhanced_before, enhanced_after, change_map=refined_change_map,\n",
    "    titles=(\"Before (Aug 15)\", \"After (Aug 16)\", \"Changes\"),\n",
    "    figsize=(20, 6),\n",
    "    save_path=output_dir / \"01_before_after_comparison.png\",\n",
    "    dpi=300\n",
    ")\n",
    "plt.close()\n",
    "\n",
    "# Export change heatmap\n",
    "fig, ax = plot_change_heatmap(\n",
    "    change_magnitude,\n",
    "    title=\"Change Magnitude Heatmap\",\n",
    "    figsize=(14, 10),\n",
    "    save_path=output_dir / \"02_change_heatmap.png\",\n",
    "    dpi=300\n",
    ")\n",
    "plt.close()\n",
    "\n",
    "# Export RGB composite\n",
    "fig, ax = plot_change_rgb(\n",
    "    enhanced_before, enhanced_after,\n",
    "    title=\"Multi-Temporal RGB Composite\",\n",
    "    figsize=(14, 12),\n",
    "    save_path=output_dir / \"03_rgb_composite.png\",\n",
    "    dpi=300\n",
    ")\n",
    "plt.close()\n",
    "\n",
    "# Export detections\n",
    "fig, ax = plot_detections(\n",
    "    enhanced_after, detections_after,\n",
    "    title=\"Detected Objects - Aug 16, 2025\",\n",
    "    max_detections=30,\n",
    "    figsize=(14, 12),\n",
    "    save_path=output_dir / \"04_detections.png\",\n",
    "    dpi=300\n",
    ")\n",
    "plt.close()\n",
    "\n",
    "print(\"\\n✓ All results exported successfully!\")\n",
    "print(f\"  • Location: {output_dir.absolute()}\")\n",
    "print(f\"  • Resolution: 300 DPI (publication quality)\")\n",
    "print(f\"  • Files: 4 PNG images\")"
   ]
  },
  {
   "cell_type": "markdown",
   "metadata": {},
   "source": "---\n\n## Summary\n\nThis notebook demonstrated a complete SAR change detection workflow:\n\n1. ✅ **Data Loading**: Multi-temporal Sentinel-1 SAR imagery\n2. ✅ **Preprocessing**: dB conversion, speckle filtering, contrast enhancement\n3. ✅ **Change Detection**: Difference method with thresholding\n4. ✅ **Object Detection**: Bright spot analysis for ships/planes/infrastructure\n5. ✅ **Visualization**: Before/after, heatmaps, RGB composites, annotated detections\n6. ✅ **Statistical Analysis**: Quantitative assessment of changes\n7. ✅ **Export**: High-resolution figures for reports\n\n**Technologies Used:**\n- Sentinel-1 C-band SAR\n- Python (numpy, scipy, scikit-image, matplotlib)\n- Computer Vision techniques\n- Test-Driven Development\n\n**Portfolio Value:**\n- Demonstrates end-to-end remote sensing workflow\n- Shows proficiency in SAR image analysis\n- Professional code quality and documentation\n- Reproducible research with clear methodology\n\n---\n\n*Analysis completed: 2025-10-01*  \n*Notebook: 02_change_detection_analysis.ipynb*  \n*Project: Sentinel SAR Change Detection - Hainan Naval Base*"
  }
 ],
 "metadata": {
  "kernelspec": {
   "display_name": "Python 3",
   "language": "python",
   "name": "python3"
  },
  "language_info": {
   "codemirror_mode": {
    "name": "ipython",
    "version": 3
   },
   "file_extension": ".py",
   "mimetype": "text/x-python",
   "name": "python",
   "nbconvert_exporter": "python",
   "pygments_lexer": "ipython3",
   "version": "3.12.7"
  }
 },
 "nbformat": 4,
 "nbformat_minor": 4
}